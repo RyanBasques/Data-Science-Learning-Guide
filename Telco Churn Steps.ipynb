{
 "cells": [
  {
   "cell_type": "markdown",
   "metadata": {},
   "source": [
    "##### 1- Start by pulling down Python 3, SKLearn, Pandas, and any dependencies. Pull down either the titanic dataset or the telco churn dataset. Load the dataset into Python, split off a validation dataset of 20% of your data, chosen randomly. With the remaining 80%, train a decision tree to classify the outcome (churn or survive). Use 10-fold cross-validation to get a true positive rate and false positive rate. Visualize a ROC curve (and understand what it is) and then use your 20% validation set to double check your metrics. How close were the metrics created by 10-fold CV?"
   ]
  },
  {
   "cell_type": "markdown",
   "metadata": {},
   "source": [
    "### Notes:\n",
    "* Dataset link: https://www.ibm.com/communities/analytics/watson-analytics-blog/predictive-insights-in-the-telco-customer-churn-data-set/\n",
    "* \"Churn\" is defined as the customer having left in the past month"
   ]
  },
  {
   "cell_type": "markdown",
   "metadata": {},
   "source": [
    "### Load modules and dataset"
   ]
  },
  {
   "cell_type": "code",
   "execution_count": 1,
   "metadata": {
    "collapsed": true
   },
   "outputs": [],
   "source": [
    "import pandas as pd\n",
    "import numpy as np\n",
    "from sklearn.model_selection import train_test_split\n",
    "from sklearn import tree\n",
    "from sklearn.tree import DecisionTreeClassifier, export_graphviz\n",
    "import subprocess\n",
    "import scipy\n",
    "import matplotlib.pyplot as plt\n",
    "\n",
    "%matplotlib inline\n",
    "\n",
    "pd.set_option('display.max_columns', None)"
   ]
  },
  {
   "cell_type": "code",
   "execution_count": 2,
   "metadata": {},
   "outputs": [
    {
     "data": {
      "text/html": [
       "<div>\n",
       "<style>\n",
       "    .dataframe thead tr:only-child th {\n",
       "        text-align: right;\n",
       "    }\n",
       "\n",
       "    .dataframe thead th {\n",
       "        text-align: left;\n",
       "    }\n",
       "\n",
       "    .dataframe tbody tr th {\n",
       "        vertical-align: top;\n",
       "    }\n",
       "</style>\n",
       "<table border=\"1\" class=\"dataframe\">\n",
       "  <thead>\n",
       "    <tr style=\"text-align: right;\">\n",
       "      <th></th>\n",
       "      <th>customerID</th>\n",
       "      <th>gender</th>\n",
       "      <th>SeniorCitizen</th>\n",
       "      <th>Partner</th>\n",
       "      <th>Dependents</th>\n",
       "      <th>tenure</th>\n",
       "      <th>PhoneService</th>\n",
       "      <th>MultipleLines</th>\n",
       "      <th>InternetService</th>\n",
       "      <th>OnlineSecurity</th>\n",
       "      <th>OnlineBackup</th>\n",
       "      <th>DeviceProtection</th>\n",
       "      <th>TechSupport</th>\n",
       "      <th>StreamingTV</th>\n",
       "      <th>StreamingMovies</th>\n",
       "      <th>Contract</th>\n",
       "      <th>PaperlessBilling</th>\n",
       "      <th>PaymentMethod</th>\n",
       "      <th>MonthlyCharges</th>\n",
       "      <th>TotalCharges</th>\n",
       "      <th>Churn</th>\n",
       "    </tr>\n",
       "  </thead>\n",
       "  <tbody>\n",
       "    <tr>\n",
       "      <th>0</th>\n",
       "      <td>7590-VHVEG</td>\n",
       "      <td>Female</td>\n",
       "      <td>0</td>\n",
       "      <td>Yes</td>\n",
       "      <td>No</td>\n",
       "      <td>1</td>\n",
       "      <td>No</td>\n",
       "      <td>No phone service</td>\n",
       "      <td>DSL</td>\n",
       "      <td>No</td>\n",
       "      <td>Yes</td>\n",
       "      <td>No</td>\n",
       "      <td>No</td>\n",
       "      <td>No</td>\n",
       "      <td>No</td>\n",
       "      <td>Month-to-month</td>\n",
       "      <td>Yes</td>\n",
       "      <td>Electronic check</td>\n",
       "      <td>29.85</td>\n",
       "      <td>29.85</td>\n",
       "      <td>No</td>\n",
       "    </tr>\n",
       "  </tbody>\n",
       "</table>\n",
       "</div>"
      ],
      "text/plain": [
       "   customerID  gender  SeniorCitizen Partner Dependents  tenure PhoneService  \\\n",
       "0  7590-VHVEG  Female              0     Yes         No       1           No   \n",
       "\n",
       "      MultipleLines InternetService OnlineSecurity OnlineBackup  \\\n",
       "0  No phone service             DSL             No          Yes   \n",
       "\n",
       "  DeviceProtection TechSupport StreamingTV StreamingMovies        Contract  \\\n",
       "0               No          No          No              No  Month-to-month   \n",
       "\n",
       "  PaperlessBilling     PaymentMethod  MonthlyCharges TotalCharges Churn  \n",
       "0              Yes  Electronic check           29.85        29.85    No  "
      ]
     },
     "execution_count": 2,
     "metadata": {},
     "output_type": "execute_result"
    }
   ],
   "source": [
    "telco = pd.read_csv(r\"/Users/ryanbasques/PythonProjects/Trevor's 7 Steps/WA_Fn-UseC_-Telco-Customer-Churn.csv\")\n",
    "telco.head(1)"
   ]
  },
  {
   "cell_type": "markdown",
   "metadata": {},
   "source": [
    "### Data preparation"
   ]
  },
  {
   "cell_type": "markdown",
   "metadata": {},
   "source": [
    "Sklearn does not accept string formatted features. Variables to binarize: *gender, Partner, Dependents, PhoneService, PaperlessBilling*"
   ]
  },
  {
   "cell_type": "code",
   "execution_count": 3,
   "metadata": {
    "collapsed": true,
    "scrolled": true
   },
   "outputs": [],
   "source": [
    "normalized = telco.copy()"
   ]
  },
  {
   "cell_type": "code",
   "execution_count": 4,
   "metadata": {
    "collapsed": true
   },
   "outputs": [],
   "source": [
    "#TotalCharges space character preventing numeric data type\n",
    "normalized['TotalCharges'] = np.where(normalized['TotalCharges']==\" \",0,normalized['TotalCharges'])\n",
    "normalized['TotalCharges'] = normalized['TotalCharges'].astype('float')"
   ]
  },
  {
   "cell_type": "code",
   "execution_count": 5,
   "metadata": {
    "collapsed": true,
    "scrolled": true
   },
   "outputs": [],
   "source": [
    "#binary variables\n",
    "for feature in ['gender', 'Partner', 'Dependents', 'PhoneService', 'PaperlessBilling', 'Churn']:\n",
    "    normalized[feature] = pd.get_dummies(normalized[feature], prefix=feature, drop_first=True) #binarize"
   ]
  },
  {
   "cell_type": "code",
   "execution_count": 6,
   "metadata": {
    "collapsed": true
   },
   "outputs": [],
   "source": [
    "#other categorical variables\n",
    "normalized = pd.get_dummies(normalized, columns=['MultipleLines', 'InternetService', 'OnlineSecurity', 'OnlineBackup',\n",
    "                'DeviceProtection', 'TechSupport', 'StreamingTV', 'StreamingMovies', 'Contract',\n",
    "                'PaymentMethod'])"
   ]
  },
  {
   "cell_type": "code",
   "execution_count": 7,
   "metadata": {
    "collapsed": true
   },
   "outputs": [],
   "source": [
    "#Get rid of customerID\n",
    "normalized.drop('customerID', axis=1, inplace=True)"
   ]
  },
  {
   "cell_type": "markdown",
   "metadata": {},
   "source": [
    "### Split train/test sets: 80% / 20%"
   ]
  },
  {
   "cell_type": "code",
   "execution_count": 8,
   "metadata": {
    "collapsed": true
   },
   "outputs": [],
   "source": [
    "normalized = normalized.astype('float32')"
   ]
  },
  {
   "cell_type": "code",
   "execution_count": 9,
   "metadata": {
    "collapsed": true
   },
   "outputs": [],
   "source": [
    "X_train, X_test, Y_train, Y_test = train_test_split(normalized.loc[:, normalized.columns != 'Churn'], normalized['Churn'], test_size=0.2, random_state=33)"
   ]
  },
  {
   "cell_type": "markdown",
   "metadata": {},
   "source": [
    "### Decision Tree Classification"
   ]
  },
  {
   "cell_type": "code",
   "execution_count": 10,
   "metadata": {
    "collapsed": true
   },
   "outputs": [],
   "source": [
    "clf = tree.DecisionTreeClassifier()\n",
    "clf = clf.fit(X_train, Y_train)"
   ]
  },
  {
   "cell_type": "markdown",
   "metadata": {},
   "source": [
    "Decision tree visualization - code borrowed from: http://chrisstrelioff.ws/sandbox/2015/06/08/decision_trees_in_python_with_scikit_learn_and_pandas.html"
   ]
  },
  {
   "cell_type": "code",
   "execution_count": 11,
   "metadata": {
    "collapsed": true
   },
   "outputs": [],
   "source": [
    "def visualize_tree(tree, feature_names):\n",
    "    \"\"\"Create tree png using graphviz.\n",
    "\n",
    "    Args\n",
    "    ----\n",
    "    tree -- scikit-learn DecsisionTree.\n",
    "    feature_names -- list of feature names.\n",
    "    \"\"\"\n",
    "    with open(\"dt.dot\", 'w') as f:\n",
    "        export_graphviz(tree, out_file=f,\n",
    "                        feature_names=feature_names)\n",
    "\n",
    "    command = [r\"/usr/local/Cellar/graphviz/2.40.1/bin/dot\", \"-Tpng\", \"dt.dot\", \"-o\", \"dt.png\"]\n",
    "    try:\n",
    "        subprocess.check_call(command)\n",
    "    except Exception as exc:\n",
    "        print(exc)\n",
    "        \n",
    "visualize_tree(clf, X_train.columns)"
   ]
  },
  {
   "cell_type": "markdown",
   "metadata": {
    "collapsed": true
   },
   "source": [
    "### Model Selection\n",
    "Different scoring parameters: http://scikit-learn.org/stable/modules/model_evaluation.html#scoring-parameter"
   ]
  },
  {
   "cell_type": "code",
   "execution_count": 12,
   "metadata": {},
   "outputs": [
    {
     "name": "stdout",
     "output_type": "stream",
     "text": [
      "Accuracy score: 0.728087540413\n",
      "Precision score (True Positive Rate) 0.483010586702\n",
      "Recall score (False Positive Rate) 0.498081806639\n",
      "ROC score (Area Under Curve) 0.65277778687\n"
     ]
    }
   ],
   "source": [
    "from sklearn.model_selection import cross_val_score\n",
    "\n",
    "cross_val_accuracy = cross_val_score(clf, X_train, Y_train, cv=10)\n",
    "accuracy_score = np.mean(cross_val_accuracy)\n",
    "print(\"Accuracy score:\", accuracy_score)\n",
    "\n",
    "cross_val_precision = cross_val_score(clf, X_train, Y_train, cv=10, scoring='precision')\n",
    "precision_score = np.mean(cross_val_precision)\n",
    "print(\"Precision score (True Positive Rate)\", precision_score)\n",
    "\n",
    "cross_val_recall = cross_val_score(clf, X_train, Y_train, cv=10, scoring='recall')\n",
    "recall_score = np.mean(cross_val_recall)\n",
    "print(\"Recall score (False Positive Rate)\", recall_score)\n",
    "\n",
    "cross_val_roc = cross_val_score(clf, X_train, Y_train, cv=10, scoring='roc_auc')\n",
    "roc_score = np.mean(cross_val_roc)\n",
    "print(\"ROC score (Area Under Curve)\", roc_score)"
   ]
  },
  {
   "cell_type": "markdown",
   "metadata": {},
   "source": [
    "### Plot ROC Curve\n",
    "Plotting an ROC Curve: http://scikit-learn.org/stable/auto_examples/model_selection/plot_roc_crossval.html"
   ]
  },
  {
   "cell_type": "code",
   "execution_count": 13,
   "metadata": {},
   "outputs": [
    {
     "data": {
      "image/png": "[encoded data removed]",
      "text/plain": [
       "<matplotlib.figure.Figure at 0x1a18181da0>"
      ]
     },
     "metadata": {},
     "output_type": "display_data"
    }
   ],
   "source": [
    "import matplotlib.pyplot as plt\n",
    "from itertools import cycle\n",
    "\n",
    "from scipy import interp\n",
    "\n",
    "from sklearn import svm, datasets\n",
    "from sklearn.metrics import roc_curve, auc\n",
    "from sklearn.model_selection import StratifiedKFold\n",
    "\n",
    "cv = StratifiedKFold(n_splits=10)\n",
    "\n",
    "tprs = []\n",
    "aucs = []\n",
    "mean_fpr = np.linspace(0, 1, 100)\n",
    "\n",
    "i = 0\n",
    "\n",
    "# for train, test in cv.split(X_train, Y_train):\n",
    "for train, test in cv.split(X_train, Y_train):\n",
    "#     v = clf.fit(X_train.iloc[train], Y_train.iloc[train])\n",
    "    probas_ = clf.fit(X_train.iloc[train], Y_train.iloc[train]).predict_proba(X_train.iloc[test])\n",
    "    #Compute ROC curve and area the curve\n",
    "    fpr, tpr, thresholds = roc_curve(Y_train.iloc[test], probas_[:, 1])\n",
    "    tprs.append(interp(mean_fpr, fpr, tpr))\n",
    "    tprs[-1][0] = 0.0\n",
    "    roc_auc = auc(fpr, tpr)\n",
    "    aucs.append(roc_auc)\n",
    "    plt.plot(fpr, tpr, lw=1, alpha=0.3, label='ROC fold %d (AUC = %0.2f)' % (i, roc_auc))\n",
    "    \n",
    "    i += 1\n",
    "    \n",
    "plt.plot([0, 1], [0, 1], linestyle='--', lw=2, color='r', label='Luck', alpha=0.8)\n",
    "\n",
    "mean_tpr = np.mean(tprs, axis=0)\n",
    "mean_tpr[-1] = 1.0\n",
    "mean_auc = auc(mean_fpr, mean_tpr)\n",
    "std_auc = np.std(aucs)\n",
    "plt.plot(mean_fpr, mean_tpr, color='b', label=r'Mean ROC (AUC = %0.2f $\\pm$ %0.2f)' % (mean_auc, std_auc),\n",
    "         lw=2, alpha=.8)\n",
    "\n",
    "std_tpr = np.std(tprs, axis=0)\n",
    "tprs_upper = np.minimum(mean_tpr + std_tpr, 1)\n",
    "tprs_lower = np.maximum(mean_tpr - std_tpr, 0)\n",
    "plt.fill_between(mean_fpr, tprs_lower, tprs_upper, color='grey', alpha=.2,\n",
    "                 label=r'$\\pm$ 1 std. dev.')\n",
    "\n",
    "plt.xlim([-0.05, 1.05])\n",
    "plt.ylim([-0.05, 1.05])\n",
    "plt.xlabel('False Positive Rate')\n",
    "plt.ylabel('True Positive Rate')\n",
    "plt.title('Receiver operating characteristic')\n",
    "plt.legend(loc=\"lower right\")\n",
    "plt.show()\n"
   ]
  },
  {
   "cell_type": "markdown",
   "metadata": {
    "collapsed": true
   },
   "source": [
    "### Using 20% hold-out to check metrics"
   ]
  },
  {
   "cell_type": "code",
   "execution_count": 14,
   "metadata": {},
   "outputs": [
    {
     "data": {
      "text/plain": [
       "0.72320794889992901"
      ]
     },
     "execution_count": 14,
     "metadata": {},
     "output_type": "execute_result"
    }
   ],
   "source": [
    "clf.score(X=X_test, y=Y_test)"
   ]
  },
  {
   "cell_type": "markdown",
   "metadata": {},
   "source": [
    "##### Accuracy reported from the cross validation (79%) is very close to the actual accuracy reported from the test set (78%)."
   ]
  },
  {
   "cell_type": "markdown",
   "metadata": {},
   "source": [
    "### Step 2"
   ]
  },
  {
   "cell_type": "markdown",
   "metadata": {},
   "source": [
    "#### Tune the hyperparameters for the decision tree. Some hyperparameters include the impurity metric (GINI etc) or the number of children per branch. see if you can find any useful Python packages or tools within sklearn which might help you to do this. You might need to use a different metric like Logarithmic Loss in order to automatically optimize the model. Once you've trained a new, optimized version of your decision tree, compare the validation ROC curve against the one from item 1, which was just using the default hyperparameters."
   ]
  },
  {
   "cell_type": "code",
   "execution_count": 15,
   "metadata": {},
   "outputs": [
    {
     "name": "stdout",
     "output_type": "stream",
     "text": [
      "Trees iterated: 200\n",
      "CPU times: user 49 s, sys: 342 ms, total: 49.4 s\n",
      "Wall time: 50.9 s\n"
     ]
    }
   ],
   "source": [
    "%%time\n",
    "\n",
    "max_depth_range = range(2, 12)\n",
    "criterion = ['gini', 'entropy']\n",
    "# min_samples_split_range = range(2,38,5) #min is 2, will increment by 5\n",
    "# min_samples_leaf_range = range(2,38,5)\n",
    "max_features_range = range(20, len(X_train.columns), 2)\n",
    "\n",
    "#*Started out with too many variations where the compute time would have taken hours. Oops!*\n",
    "\n",
    "treeResults = []\n",
    "\n",
    "tree_count = 0\n",
    "for depth in max_depth_range:\n",
    "    for c in criterion:\n",
    "#         for split_samples in min_samples_split_range:\n",
    "#             for leaf_samples in min_samples_leaf_range:\n",
    "        for feature_num in max_features_range:\n",
    "#                     tempClf = tree.DecisionTreeClassifier(max_depth=depth, criterion=c, min_samples_split=split_samples,\n",
    "#                                                          min_samples_leaf=leaf_samples, max_features=feature_num)\n",
    "            tempClf = tree.DecisionTreeClassifier(max_depth=depth, criterion=c, max_features=feature_num)\n",
    "            tempClf = tempClf.fit(X_train, Y_train)\n",
    "\n",
    "            cross_val_roc = cross_val_score(clf, X_train, Y_train, cv=10, scoring='roc_auc')\n",
    "            roc_score = np.mean(cross_val_roc)\n",
    "\n",
    "#                     treeResults.append([tree_count, depth, c, split_samples, leaf_samples, feature_num, roc_score])\n",
    "            treeResults.append([tree_count, depth, c, feature_num, roc_score])\n",
    "\n",
    "            tree_count += 1\n",
    "\n",
    "print(\"Trees iterated:\", tree_count)\n",
    "\n",
    "# resultColumns = ['tree_ID', 'max_depth', 'criterion', 'min_split_samples', 'min_leaf_samples',\n",
    "#                  'max_feature_num', 'roc_score']\n",
    "\n",
    "resultColumns = ['tree_ID', 'max_depth', 'criterion',\n",
    "                 'max_feature_num', 'roc_score']"
   ]
  },
  {
   "cell_type": "code",
   "execution_count": 16,
   "metadata": {
    "scrolled": true
   },
   "outputs": [
    {
     "data": {
      "text/html": [
       "<div>\n",
       "<style>\n",
       "    .dataframe thead tr:only-child th {\n",
       "        text-align: right;\n",
       "    }\n",
       "\n",
       "    .dataframe thead th {\n",
       "        text-align: left;\n",
       "    }\n",
       "\n",
       "    .dataframe tbody tr th {\n",
       "        vertical-align: top;\n",
       "    }\n",
       "</style>\n",
       "<table border=\"1\" class=\"dataframe\">\n",
       "  <thead>\n",
       "    <tr style=\"text-align: right;\">\n",
       "      <th></th>\n",
       "      <th>tree_ID</th>\n",
       "      <th>max_depth</th>\n",
       "      <th>criterion</th>\n",
       "      <th>max_feature_num</th>\n",
       "      <th>roc_score</th>\n",
       "    </tr>\n",
       "  </thead>\n",
       "  <tbody>\n",
       "    <tr>\n",
       "      <th>11</th>\n",
       "      <td>11</td>\n",
       "      <td>2</td>\n",
       "      <td>entropy</td>\n",
       "      <td>22</td>\n",
       "      <td>0.663552</td>\n",
       "    </tr>\n",
       "    <tr>\n",
       "      <th>73</th>\n",
       "      <td>73</td>\n",
       "      <td>5</td>\n",
       "      <td>entropy</td>\n",
       "      <td>26</td>\n",
       "      <td>0.663439</td>\n",
       "    </tr>\n",
       "    <tr>\n",
       "      <th>50</th>\n",
       "      <td>50</td>\n",
       "      <td>4</td>\n",
       "      <td>entropy</td>\n",
       "      <td>20</td>\n",
       "      <td>0.661378</td>\n",
       "    </tr>\n",
       "    <tr>\n",
       "      <th>63</th>\n",
       "      <td>63</td>\n",
       "      <td>5</td>\n",
       "      <td>gini</td>\n",
       "      <td>26</td>\n",
       "      <td>0.660487</td>\n",
       "    </tr>\n",
       "    <tr>\n",
       "      <th>86</th>\n",
       "      <td>86</td>\n",
       "      <td>6</td>\n",
       "      <td>gini</td>\n",
       "      <td>32</td>\n",
       "      <td>0.660366</td>\n",
       "    </tr>\n",
       "  </tbody>\n",
       "</table>\n",
       "</div>"
      ],
      "text/plain": [
       "    tree_ID  max_depth criterion  max_feature_num  roc_score\n",
       "11       11          2   entropy               22   0.663552\n",
       "73       73          5   entropy               26   0.663439\n",
       "50       50          4   entropy               20   0.661378\n",
       "63       63          5      gini               26   0.660487\n",
       "86       86          6      gini               32   0.660366"
      ]
     },
     "execution_count": 16,
     "metadata": {},
     "output_type": "execute_result"
    }
   ],
   "source": [
    "treeResultsGrid = pd.DataFrame(treeResults, columns=resultColumns)\n",
    "treeResultsGrid.sort_values(by='roc_score', ascending=False).head()\n",
    "#Had to limit the manual parameters I searched because of how long it takes. Using the three above, it looks like the\n",
    "#best combination is max tree depth of 10, entropy criterion, max features of 36.\n",
    "\n",
    "#However, because a depth of 10 is much more likely to overfit the data, and a max depth of 5 only sacrifices .001\n",
    "#ROC score, I would likely opt for the second option - max depth 3, entropy criterion, 32 max features."
   ]
  },
  {
   "cell_type": "markdown",
   "metadata": {},
   "source": [
    "### Prepare for automatic hyperparameter tuning\n",
    "Helpful link: http://scikit-learn.org/stable/modules/grid_search.html"
   ]
  },
  {
   "cell_type": "code",
   "execution_count": 17,
   "metadata": {},
   "outputs": [
    {
     "data": {
      "text/plain": [
       "{'class_weight': None,\n",
       " 'criterion': 'gini',\n",
       " 'max_depth': None,\n",
       " 'max_features': None,\n",
       " 'max_leaf_nodes': None,\n",
       " 'min_impurity_decrease': 0.0,\n",
       " 'min_impurity_split': None,\n",
       " 'min_samples_leaf': 1,\n",
       " 'min_samples_split': 2,\n",
       " 'min_weight_fraction_leaf': 0.0,\n",
       " 'presort': False,\n",
       " 'random_state': None,\n",
       " 'splitter': 'best'}"
      ]
     },
     "execution_count": 17,
     "metadata": {},
     "output_type": "execute_result"
    }
   ],
   "source": [
    "clf.get_params() #all possible hyperparameters"
   ]
  },
  {
   "cell_type": "code",
   "execution_count": 18,
   "metadata": {},
   "outputs": [
    {
     "name": "stdout",
     "output_type": "stream",
     "text": [
      "MEAN_ACCURACY_SCORING\n",
      "DecisionTreeClassifier(class_weight=None, criterion='gini', max_depth=6,\n",
      "            max_features=None, max_leaf_nodes=20,\n",
      "            min_impurity_decrease=0.0, min_impurity_split=None,\n",
      "            min_samples_leaf=1, min_samples_split=2,\n",
      "            min_weight_fraction_leaf=0.0, presort=False, random_state=None,\n",
      "            splitter='best')\n",
      "{'criterion': 'gini', 'max_depth': 6, 'max_leaf_nodes': 20}\n",
      "0.797479588214\n",
      "LOG_LOSS_SCORING\n",
      "DecisionTreeClassifier(class_weight=None, criterion='entropy', max_depth=3,\n",
      "            max_features=None, max_leaf_nodes=14,\n",
      "            min_impurity_decrease=0.0, min_impurity_split=None,\n",
      "            min_samples_leaf=1, min_samples_split=2,\n",
      "            min_weight_fraction_leaf=0.0, presort=False, random_state=None,\n",
      "            splitter='best')\n",
      "{'criterion': 'entropy', 'max_depth': 3, 'max_leaf_nodes': 14}\n",
      "-0.425333702529\n",
      "CPU times: user 1min 20s, sys: 538 ms, total: 1min 21s\n",
      "Wall time: 1min 22s\n"
     ]
    }
   ],
   "source": [
    "%%time\n",
    "\n",
    "#Grid search\n",
    "from sklearn.model_selection import GridSearchCV\n",
    "\n",
    "param_grid = [\n",
    "    {'max_depth':[x for x in range(1,8)],\n",
    "    'criterion':('gini', 'entropy'),\n",
    "#     {'min_samples_split':[x for x in range(2,100,2)]} #did not help\n",
    "    'max_leaf_nodes':[x for x in range(2,50,2)]}\n",
    "]\n",
    "\n",
    "clf = DecisionTreeClassifier()\n",
    "gridSearch = GridSearchCV(clf, param_grid, cv=10)\n",
    "gridSearch.fit(X_train, Y_train)\n",
    "\n",
    "print(\"MEAN_ACCURACY_SCORING\")\n",
    "print(gridSearch.best_estimator_)\n",
    "print(gridSearch.best_params_)\n",
    "print(gridSearch.best_score_)\n",
    "\n",
    "gridSearchLL = GridSearchCV(clf, param_grid, cv=10, scoring='neg_log_loss') #log loss scoring\n",
    "gridSearchLL.fit(X_train, Y_train)\n",
    "\n",
    "print(\"LOG_LOSS_SCORING\")\n",
    "print(gridSearchLL.best_estimator_)\n",
    "print(gridSearchLL.best_params_)\n",
    "print(gridSearchLL.best_score_)\n",
    "\n",
    "#This seems about as fast as the version I built above, but simpler to use."
   ]
  },
  {
   "cell_type": "code",
   "execution_count": 19,
   "metadata": {},
   "outputs": [
    {
     "data": {
      "text/plain": [
       "[<matplotlib.lines.Line2D at 0x1a2095f8d0>]"
      ]
     },
     "execution_count": 19,
     "metadata": {},
     "output_type": "execute_result"
    },
    {
     "data": {
      "image/png": "[encoded data removed]",
      "text/plain": [
       "<matplotlib.figure.Figure at 0x1a2095fdd8>"
      ]
     },
     "metadata": {},
     "output_type": "display_data"
    }
   ],
   "source": [
    "#exploring different distributions for use in randomized search below\n",
    "test = scipy.stats.expon(scale=5) #exponential distribution\n",
    "fig, ax = plt.subplots(1, 1)\n",
    "x = np.linspace(test.ppf(0.01), test.ppf(0.99), 100)\n",
    "ax.plot(x, test.pdf(x), 'r-', lw=5, alpha=0.6)"
   ]
  },
  {
   "cell_type": "code",
   "execution_count": 20,
   "metadata": {},
   "outputs": [
    {
     "name": "stdout",
     "output_type": "stream",
     "text": [
      "MEAN_ACCURACY_SCORING\n",
      "RandomizedSearchCV(cv=None, error_score='raise',\n",
      "          estimator=DecisionTreeClassifier(class_weight=None, criterion='gini', max_depth=None,\n",
      "            max_features=None, max_leaf_nodes=None,\n",
      "            min_impurity_decrease=0.0, min_impurity_split=None,\n",
      "            min_samples_leaf=1, min_samples_split=2,\n",
      "            min_weight_fraction_leaf=0.0, presort=False, random_state=None,\n",
      "            splitter='best'),\n",
      "          fit_params=None, iid=True, n_iter=100, n_jobs=1,\n",
      "          param_distributions={'max_depth': range(1, 50), 'criterion': ['gini', 'entropy'], 'max_leaf_nodes': range(2, 80)},\n",
      "          pre_dispatch='2*n_jobs', random_state=None, refit=True,\n",
      "          return_train_score='warn', scoring=None, verbose=0)\n",
      "DecisionTreeClassifier(class_weight=None, criterion='gini', max_depth=6,\n",
      "            max_features=None, max_leaf_nodes=32,\n",
      "            min_impurity_decrease=0.0, min_impurity_split=None,\n",
      "            min_samples_leaf=1, min_samples_split=2,\n",
      "            min_weight_fraction_leaf=0.0, presort=False, random_state=None,\n",
      "            splitter='best')\n",
      "{'max_leaf_nodes': 32, 'max_depth': 6, 'criterion': 'gini'}\n",
      "0.793042243521\n",
      "LOG_LOSS_SCORING\n",
      "RandomizedSearchCV(cv=None, error_score='raise',\n",
      "          estimator=DecisionTreeClassifier(class_weight=None, criterion='gini', max_depth=None,\n",
      "            max_features=None, max_leaf_nodes=None,\n",
      "            min_impurity_decrease=0.0, min_impurity_split=None,\n",
      "            min_samples_leaf=1, min_samples_split=2,\n",
      "            min_weight_fraction_leaf=0.0, presort=False, random_state=None,\n",
      "            splitter='best'),\n",
      "          fit_params=None, iid=True, n_iter=100, n_jobs=1,\n",
      "          param_distributions={'max_depth': range(1, 50), 'criterion': ['gini', 'entropy'], 'max_leaf_nodes': range(2, 80)},\n",
      "          pre_dispatch='2*n_jobs', random_state=None, refit=True,\n",
      "          return_train_score='warn', scoring='neg_log_loss', verbose=0)\n",
      "DecisionTreeClassifier(class_weight=None, criterion='gini', max_depth=9,\n",
      "            max_features=None, max_leaf_nodes=14,\n",
      "            min_impurity_decrease=0.0, min_impurity_split=None,\n",
      "            min_samples_leaf=1, min_samples_split=2,\n",
      "            min_weight_fraction_leaf=0.0, presort=False, random_state=None,\n",
      "            splitter='best')\n",
      "{'max_leaf_nodes': 14, 'max_depth': 9, 'criterion': 'gini'}\n",
      "-0.433683768055\n",
      "CPU times: user 7.25 s, sys: 38.1 ms, total: 7.28 s\n",
      "Wall time: 7.33 s\n"
     ]
    }
   ],
   "source": [
    "%%time\n",
    "\n",
    "#Randomized search\n",
    "from sklearn.model_selection import RandomizedSearchCV\n",
    "\n",
    "clf = DecisionTreeClassifier()\n",
    "\n",
    "param_grid = {'max_depth':range(1,50),\n",
    "             'criterion':['gini', 'entropy'],\n",
    "             'max_leaf_nodes':range(2,80)}\n",
    "\n",
    "\n",
    "randomSearch = RandomizedSearchCV(clf, param_distributions=param_grid, n_iter=100)\n",
    "\n",
    "randomSearch.fit(X_train, Y_train)\n",
    "\n",
    "print(\"MEAN_ACCURACY_SCORING\")\n",
    "print(randomSearch)\n",
    "print(randomSearch.best_estimator_)\n",
    "print(randomSearch.best_params_)\n",
    "print(randomSearch.best_score_)\n",
    "\n",
    "randomSearchLL = RandomizedSearchCV(clf, param_distributions=param_grid, n_iter=100, scoring='neg_log_loss')\n",
    "\n",
    "randomSearchLL.fit(X_train, Y_train)\n",
    "\n",
    "print(\"LOG_LOSS_SCORING\")\n",
    "print(randomSearchLL)\n",
    "print(randomSearchLL.best_estimator_)\n",
    "print(randomSearchLL.best_params_)\n",
    "print(randomSearchLL.best_score_)"
   ]
  },
  {
   "cell_type": "markdown",
   "metadata": {},
   "source": [
    "Grid search and randomized searched returned very different results. It looks like grid search\n",
    "performed better in both scoring metrics (mean accuracy, log loss). This may be because I\n",
    "did not define the sampling distributions well enough, or set the number of iterations high enough\n",
    "for the randomized search."
   ]
  },
  {
   "cell_type": "code",
   "execution_count": 21,
   "metadata": {},
   "outputs": [
    {
     "name": "stdout",
     "output_type": "stream",
     "text": [
      "ROC score (Area Under Curve) for base 0.655249035546\n",
      "ROC score (Area Under Curve) for gridTree 0.828977760676\n"
     ]
    }
   ],
   "source": [
    "#Compare ROC from base model (with default hyperparameters) to ROC from best model found ({'criterion': 'gini', 'max_depth': 6, 'max_leaf_nodes': 20})\n",
    "\n",
    "#Base Model\n",
    "base = DecisionTreeClassifier()\n",
    "cross_val_roc = cross_val_score(base, X_train, Y_train, cv=10, scoring='roc_auc')\n",
    "roc_score = np.mean(cross_val_roc)\n",
    "print(\"ROC score (Area Under Curve) for base\", roc_score)\n",
    "\n",
    "#Model from Grid Search\n",
    "gridTree = DecisionTreeClassifier(max_depth=6, max_leaf_nodes=20)\n",
    "cross_val_roc = cross_val_score(gridTree, X_train, Y_train, cv=10, scoring='roc_auc')\n",
    "roc_score = np.mean(cross_val_roc)\n",
    "print(\"ROC score (Area Under Curve) for gridTree\", roc_score)\n"
   ]
  },
  {
   "cell_type": "code",
   "execution_count": 24,
   "metadata": {},
   "outputs": [],
   "source": [
    "# from sklearn.metrics import roc_auc_score\n",
    "# #Optimized decision tree from previous steps\n",
    "# gridTree.fit(X_train, Y_train)\n",
    "# y_score = gridTree.predict(X_test)\n",
    "# roc_auc_score(Y_test, y_score)"
   ]
  },
  {
   "cell_type": "code",
   "execution_count": 45,
   "metadata": {},
   "outputs": [
    {
     "data": {
      "image/png": "[encoded data removed]",
      "text/plain": [
       "<matplotlib.figure.Figure at 0x109aa4710>"
      ]
     },
     "metadata": {},
     "output_type": "display_data"
    }
   ],
   "source": [
    "#Plot the Grid Search tree ROC (same code as above)\n",
    "cv = StratifiedKFold(n_splits=10)\n",
    "\n",
    "tprs = []\n",
    "aucs = []\n",
    "mean_fpr = np.linspace(0, 1, 100)\n",
    "\n",
    "i = 0\n",
    "\n",
    "for train, test in cv.split(X_train, Y_train):\n",
    "    probas_ = gridTree.fit(X_train.iloc[train], Y_train.iloc[train]).predict_proba(X_train.iloc[test])\n",
    "    #Compute ROC curve and area the curve\n",
    "    fpr, tpr, thresholds = roc_curve(Y_train.iloc[test], probas_[:, 1])\n",
    "    tprs.append(interp(mean_fpr, fpr, tpr))\n",
    "    tprs[-1][0] = 0.0\n",
    "    roc_auc = auc(fpr, tpr)\n",
    "    aucs.append(roc_auc)\n",
    "    plt.plot(fpr, tpr, lw=1, alpha=0.3, label='ROC fold %d (AUC = %0.2f)' % (i, roc_auc))\n",
    "    \n",
    "    i += 1\n",
    "    \n",
    "plt.plot([0, 1], [0, 1], linestyle='--', lw=2, color='r', label='Luck', alpha=0.8)\n",
    "\n",
    "mean_tpr = np.mean(tprs, axis=0)\n",
    "mean_tpr[-1] = 1.0\n",
    "mean_auc = auc(mean_fpr, mean_tpr)\n",
    "std_auc = np.std(aucs)\n",
    "plt.plot(mean_fpr, mean_tpr, color='b', label=r'Mean ROC (AUC = %0.2f $\\pm$ %0.2f)' % (mean_auc, std_auc),\n",
    "         lw=2, alpha=.8)\n",
    "\n",
    "std_tpr = np.std(tprs, axis=0)\n",
    "tprs_upper = np.minimum(mean_tpr + std_tpr, 1)\n",
    "tprs_lower = np.maximum(mean_tpr - std_tpr, 0)\n",
    "plt.fill_between(mean_fpr, tprs_lower, tprs_upper, color='grey', alpha=.2,\n",
    "                 label=r'$\\pm$ 1 std. dev.')\n",
    "\n",
    "plt.xlim([-0.05, 1.05])\n",
    "plt.ylim([-0.05, 1.05])\n",
    "plt.xlabel('False Positive Rate')\n",
    "plt.ylabel('True Positive Rate')\n",
    "plt.title('Receiver operating characteristic')\n",
    "plt.legend(loc=\"lower right\")\n",
    "plt.show()\n"
   ]
  },
  {
   "cell_type": "code",
   "execution_count": null,
   "metadata": {
    "collapsed": true
   },
   "outputs": [],
   "source": []
  }
 ],
 "metadata": {
  "kernelspec": {
   "display_name": "Python 3",
   "language": "python",
   "name": "python3"
  },
  "language_info": {
   "codemirror_mode": {
    "name": "ipython",
    "version": 3
   },
   "file_extension": ".py",
   "mimetype": "text/x-python",
   "name": "python",
   "nbconvert_exporter": "python",
   "pygments_lexer": "ipython3",
   "version": "3.6.3"
  }
 },
 "nbformat": 4,
 "nbformat_minor": 2
}
